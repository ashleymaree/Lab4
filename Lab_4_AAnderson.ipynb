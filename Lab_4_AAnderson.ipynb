{
 "cells": [
  {
   "cell_type": "markdown",
   "metadata": {},
   "source": [
    "**Lab 4: Ashley Anderson**\n",
    "<br>**GitHub Link: https://github.com/ashleymaree/Lab4.git**"
   ]
  },
  {
   "cell_type": "code",
   "execution_count": 82,
   "metadata": {},
   "outputs": [],
   "source": [
    "##load libraries\n",
    "import pandas as pd\n",
    "import numpy as np\n",
    "import seaborn as sns\n",
    "import matplotlib.pyplot as plt"
   ]
  },
  {
   "cell_type": "code",
   "execution_count": 4,
   "metadata": {},
   "outputs": [],
   "source": [
    "##load in data\n",
    "boston_listings = pd.read_csv(\"listings.csv\")\n",
    "boston_reviews = pd.read_csv(\"reviews.csv\")"
   ]
  },
  {
   "cell_type": "code",
   "execution_count": 17,
   "metadata": {},
   "outputs": [
    {
     "data": {
      "text/plain": [
       "6264"
      ]
     },
     "execution_count": 17,
     "metadata": {},
     "output_type": "execute_result"
    }
   ],
   "source": [
    "##1a) How many entries are in the file?\n",
    "boston_listings.shape[0] ## count number of entries in file by the first column"
   ]
  },
  {
   "cell_type": "code",
   "execution_count": 23,
   "metadata": {},
   "outputs": [
    {
     "data": {
      "text/plain": [
       "6264"
      ]
     },
     "execution_count": 23,
     "metadata": {},
     "output_type": "execute_result"
    }
   ],
   "source": [
    "##1b) How many unique identifiers are there for AirBnB listings?\n",
    "boston_listings.id.nunique() ## count distinct observations removing any NaN values (there are none)"
   ]
  },
  {
   "cell_type": "code",
   "execution_count": 24,
   "metadata": {},
   "outputs": [
    {
     "data": {
      "text/plain": [
       "225880"
      ]
     },
     "execution_count": 24,
     "metadata": {},
     "output_type": "execute_result"
    }
   ],
   "source": [
    "##2a) How many entries are in the file?\n",
    "boston_reviews.shape[0] ## count number of entries in file by the first column"
   ]
  },
  {
   "cell_type": "code",
   "execution_count": 29,
   "metadata": {
    "scrolled": true
   },
   "outputs": [
    {
     "data": {
      "text/plain": [
       "5088"
      ]
     },
     "execution_count": 29,
     "metadata": {},
     "output_type": "execute_result"
    }
   ],
   "source": [
    "##2b) How many unique identifiers are there for AirBnB listings?\n",
    "boston_reviews.listing_id.nunique() ## count distinct observations removing any NaN values"
   ]
  },
  {
   "cell_type": "markdown",
   "metadata": {},
   "source": [
    "**2c) Do all of the listings have a corresponding review?** With 225,880 reviews and 5,088 listings we can assume that most likely all of the listings have at least 1 review, but can't be for certain until we merge the data."
   ]
  },
  {
   "cell_type": "code",
   "execution_count": 7,
   "metadata": {},
   "outputs": [],
   "source": [
    "##3a) Do a merge using the function 'pd.merge' so that all of the entries from listing are in the merged data frame and have an NaN if there is no corresponding entry in reviews.\n",
    "boston_merge = pd.merge(boston_listings, ## select first data frame as \"left\" data frame\n",
    "                        boston_reviews, ## select second data frame as \"right\" data frame\n",
    "                        left_on = 'id', ## use column \"id\" from boston_listings to join data frames since data frames have different column headers\n",
    "                        right_on = 'listing_id', ## use column \"listing_id\" from boston_reviews to join data frames since data frames have different column headers\n",
    "                        how = 'left') ## returns join over the left entries (we want all of the entries from \"listing\" in the merged data frame)"
   ]
  },
  {
   "cell_type": "code",
   "execution_count": 50,
   "metadata": {},
   "outputs": [
    {
     "data": {
      "text/plain": [
       "227056"
      ]
     },
     "execution_count": 50,
     "metadata": {},
     "output_type": "execute_result"
    }
   ],
   "source": [
    "##3b) How many rows do you now have?\n",
    "boston_merge.shape[0] ## count number of entries in merged file by the first column"
   ]
  },
  {
   "cell_type": "code",
   "execution_count": 52,
   "metadata": {},
   "outputs": [
    {
     "data": {
      "text/plain": [
       "6264"
      ]
     },
     "execution_count": 52,
     "metadata": {},
     "output_type": "execute_result"
    }
   ],
   "source": [
    "##3c) How many unique AirBnB ids do you have?\n",
    "boston_merge.id.nunique() ## count distinct observations removing any NaN values"
   ]
  },
  {
   "cell_type": "code",
   "execution_count": 54,
   "metadata": {},
   "outputs": [
    {
     "data": {
      "text/plain": [
       "1176"
      ]
     },
     "execution_count": 54,
     "metadata": {},
     "output_type": "execute_result"
    }
   ],
   "source": [
    "##3d) How many rows were filled in with NaN?\n",
    "boston_merge.listing_id.isna().sum() ## sum total of NaN values"
   ]
  },
  {
   "cell_type": "code",
   "execution_count": 11,
   "metadata": {},
   "outputs": [],
   "source": [
    "##4a) This time do a merge so that all of the entries from reviews are in the dataframe (and therefore any entries from listings that do not have a review are dropped)\n",
    "boston_merge_2 = pd.merge(boston_reviews, ## select first data frame as \"left\" data frame\n",
    "                          boston_listings, ## select second data frame as \"right\" data frame\n",
    "                          left_on = 'listing_id', ## use column \"listing_id\" from boston_reviews to join data frames since data frames have different column headers\n",
    "                          right_on = 'id', ## use column \"id\" from boston_listings to join data frames since data frames have different column headers\n",
    "                          how = 'left') ## returns join over the left entries (we want all of the entries from \"reviews\" in the merged data frame)"
   ]
  },
  {
   "cell_type": "code",
   "execution_count": 57,
   "metadata": {},
   "outputs": [
    {
     "data": {
      "text/plain": [
       "225880"
      ]
     },
     "execution_count": 57,
     "metadata": {},
     "output_type": "execute_result"
    }
   ],
   "source": [
    "##4b) How many rows do you now have?\n",
    "boston_merge_2.shape[0] ## count number of entries in merged file by the first column"
   ]
  },
  {
   "cell_type": "code",
   "execution_count": 58,
   "metadata": {},
   "outputs": [
    {
     "data": {
      "text/plain": [
       "5088"
      ]
     },
     "execution_count": 58,
     "metadata": {},
     "output_type": "execute_result"
    }
   ],
   "source": [
    "##4c) How many unique AirBnB ids do you have?\n",
    "boston_merge_2.id.nunique() ## count distinct observations removing any NaN values"
   ]
  },
  {
   "cell_type": "code",
   "execution_count": 8,
   "metadata": {},
   "outputs": [
    {
     "data": {
      "text/plain": [
       "1448"
      ]
     },
     "execution_count": 8,
     "metadata": {},
     "output_type": "execute_result"
    }
   ],
   "source": [
    "##5a) How many unique AirBnBs are hosted by a 'superhost' in Boston?\n",
    "list(boston_merge.columns) ## Use unique listings merge and find that 'host_is_superhost' is column name of interest\n",
    "boston_merge[boston_merge.host_is_superhost == 't'].id.nunique() ## count distinct observations where superhost is \"true\""
   ]
  },
  {
   "cell_type": "code",
   "execution_count": 9,
   "metadata": {},
   "outputs": [
    {
     "data": {
      "text/plain": [
       "757"
      ]
     },
     "execution_count": 9,
     "metadata": {},
     "output_type": "execute_result"
    }
   ],
   "source": [
    "##5b) How many superhosts are there in Boston?\n",
    "list(boston_merge.columns) ## Use unique listings merge and find that 'host_id' is column name of interest\n",
    "boston_merge[boston_merge.host_is_superhost == 't'].host_id.nunique() ## count distinct host id observations where superhost is \"true\""
   ]
  },
  {
   "cell_type": "code",
   "execution_count": 85,
   "metadata": {},
   "outputs": [
    {
     "ename": "AttributeError",
     "evalue": "'DataFrameGroupBy' object has no attribute 'sort_values'",
     "output_type": "error",
     "traceback": [
      "\u001b[0;31m---------------------------------------------------------------------------\u001b[0m",
      "\u001b[0;31mAttributeError\u001b[0m                            Traceback (most recent call last)",
      "\u001b[0;32m<ipython-input-85-ba171d67df2c>\u001b[0m in \u001b[0;36m<module>\u001b[0;34m\u001b[0m\n\u001b[1;32m      1\u001b[0m \u001b[0;31m##5c) How many superhosts do not have any reviews in the 'reviews' dataset?\u001b[0m\u001b[0;34m\u001b[0m\u001b[0;34m\u001b[0m\u001b[0;34m\u001b[0m\u001b[0m\n\u001b[0;32m----> 2\u001b[0;31m \u001b[0mboston_merge_2\u001b[0m\u001b[0;34m[\u001b[0m\u001b[0mboston_merge_2\u001b[0m\u001b[0;34m.\u001b[0m\u001b[0mhost_is_superhost\u001b[0m \u001b[0;34m==\u001b[0m \u001b[0;34m't'\u001b[0m\u001b[0;34m]\u001b[0m\u001b[0;34m.\u001b[0m\u001b[0mgroupby\u001b[0m\u001b[0;34m(\u001b[0m\u001b[0;34m'host_id'\u001b[0m\u001b[0;34m)\u001b[0m\u001b[0;34m.\u001b[0m\u001b[0msort_values\u001b[0m\u001b[0;34m(\u001b[0m\u001b[0mby\u001b[0m \u001b[0;34m=\u001b[0m \u001b[0;34m[\u001b[0m\u001b[0;34m'date'\u001b[0m\u001b[0;34m]\u001b[0m\u001b[0;34m)\u001b[0m\u001b[0;34m\u001b[0m\u001b[0;34m\u001b[0m\u001b[0m\n\u001b[0m",
      "\u001b[0;32m/opt/anaconda3/lib/python3.8/site-packages/pandas/core/groupby/groupby.py\u001b[0m in \u001b[0;36m__getattr__\u001b[0;34m(self, attr)\u001b[0m\n\u001b[1;32m    578\u001b[0m             \u001b[0;32mreturn\u001b[0m \u001b[0mself\u001b[0m\u001b[0;34m[\u001b[0m\u001b[0mattr\u001b[0m\u001b[0;34m]\u001b[0m\u001b[0;34m\u001b[0m\u001b[0;34m\u001b[0m\u001b[0m\n\u001b[1;32m    579\u001b[0m \u001b[0;34m\u001b[0m\u001b[0m\n\u001b[0;32m--> 580\u001b[0;31m         raise AttributeError(\n\u001b[0m\u001b[1;32m    581\u001b[0m             \u001b[0;34mf\"'{type(self).__name__}' object has no attribute '{attr}'\"\u001b[0m\u001b[0;34m\u001b[0m\u001b[0;34m\u001b[0m\u001b[0m\n\u001b[1;32m    582\u001b[0m         )\n",
      "\u001b[0;31mAttributeError\u001b[0m: 'DataFrameGroupBy' object has no attribute 'sort_values'"
     ]
    }
   ],
   "source": [
    "##5c) How many superhosts do not have any reviews in the 'reviews' dataset?\n",
    "boston_merge_2[boston_merge_2.host_is_superhost == 't'].groupby('host_id').sort_values(by = ['date'])"
   ]
  },
  {
   "cell_type": "code",
   "execution_count": 53,
   "metadata": {},
   "outputs": [
    {
     "data": {
      "text/plain": [
       "73.0"
      ]
     },
     "execution_count": 53,
     "metadata": {},
     "output_type": "execute_result"
    }
   ],
   "source": [
    "##5d) What is the median number of reviews that a superhost has in the 'reviews' dataset?\n",
    "five_d = boston_merge_2[boston_merge_2.host_is_superhost == 't'].groupby('host_id').count() ## Use unique reviews merge and filter for superhosts. Group by \"host_id\" and count number of entries per host id\n",
    "five_d.listing_id.median() ## find median of counts of reviews"
   ]
  },
  {
   "cell_type": "code",
   "execution_count": 83,
   "metadata": {},
   "outputs": [
    {
     "data": {
      "text/plain": [
       "Text(0, 0.5, 'Number of Reviews')"
      ]
     },
     "execution_count": 83,
     "metadata": {},
     "output_type": "execute_result"
    },
    {
     "data": {
      "image/png": "[encoded data removed]",
      "text/plain": [
       "<Figure size 432x288 with 1 Axes>"
      ]
     },
     "metadata": {
      "needs_background": "light"
     },
     "output_type": "display_data"
    }
   ],
   "source": [
    "##6) Make boxplots to compare the number of reviews of superhosts to non-superhosts.\n",
    "sns.boxplot(x = \"host_is_superhost\", y = \"number_of_reviews\", hue = \"host_is_superhost\", data = boston_merge_2) ## initate boxplot with superhost status on x-axis and total number of reviews on y-axis\n",
    "plt.title('Number of Reviews for Boston Superhosts versus Non-Superhosts') ## add plot title\n",
    "plt.xlabel('Is the host a superhost?') ## add x-axis label\n",
    "plt.ylabel('Number of Reviews') ## add y-axis label"
   ]
  },
  {
   "cell_type": "code",
   "execution_count": null,
   "metadata": {},
   "outputs": [],
   "source": []
  }
 ],
 "metadata": {
  "kernelspec": {
   "display_name": "Python 3",
   "language": "python",
   "name": "python3"
  },
  "language_info": {
   "codemirror_mode": {
    "name": "ipython",
    "version": 3
   },
   "file_extension": ".py",
   "mimetype": "text/x-python",
   "name": "python",
   "nbconvert_exporter": "python",
   "pygments_lexer": "ipython3",
   "version": "3.8.3"
  }
 },
 "nbformat": 4,
 "nbformat_minor": 4
}
